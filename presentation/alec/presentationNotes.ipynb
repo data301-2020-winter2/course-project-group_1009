{
 "cells": [
  {
   "cell_type": "markdown",
   "metadata": {},
   "source": [
    "After calculating the edibility ratio for each feature,\n",
    "\n",
    "most of our analysis was plotting the edibility ratios and finding the most extream."
   ]
  },
  {
   "cell_type": "markdown",
   "metadata": {},
   "source": [
    "Here we look at the counts of edible and in-edible mushroom for cap and gill related features."
   ]
  },
  {
   "cell_type": "markdown",
   "metadata": {},
   "source": [
    "The cap features include cap:\n",
    "- color\n",
    "- shape\n",
    "- and surface"
   ]
  },
  {
   "cell_type": "markdown",
   "metadata": {},
   "source": [
    "For example, if we look at, say, brown caps and compare ones with bell and convex shapes, we can see that a smooth bell will be edible, but a smooth convex cap woud be a toss-up."
   ]
  },
  {
   "cell_type": "markdown",
   "metadata": {},
   "source": [
    "The gills are a broader set of features including their\n",
    "- attatchment\n",
    "- color\n",
    "- size\n",
    "- and spacing"
   ]
  },
  {
   "cell_type": "markdown",
   "metadata": {},
   "source": []
  },
  {
   "cell_type": "markdown",
   "metadata": {},
   "source": [
    "The dataset also covers miscilanious features that don't fit nicely into categories like 'cap related' or they are too large to work with effectively such as salk features which span 6 variables."
   ]
  },
  {
   "cell_type": "markdown",
   "metadata": {},
   "source": [
    "As you will see, these miscellanious features can be good indicators of edibility."
   ]
  },
  {
   "cell_type": "markdown",
   "metadata": {},
   "source": [
    "A mushroons ring can also sometimes tell you about its edibility."
   ]
  }
 ],
 "metadata": {
  "kernelspec": {
   "display_name": "Python 3",
   "language": "python",
   "name": "python3"
  },
  "language_info": {
   "codemirror_mode": {
    "name": "ipython",
    "version": 3
   },
   "file_extension": ".py",
   "mimetype": "text/x-python",
   "name": "python",
   "nbconvert_exporter": "python",
   "pygments_lexer": "ipython3",
   "version": "3.8.5"
  }
 },
 "nbformat": 4,
 "nbformat_minor": 4
}
