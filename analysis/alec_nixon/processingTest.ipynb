{
 "cells": [
  {
   "cell_type": "code",
   "execution_count": 49,
   "metadata": {},
   "outputs": [
    {
     "name": "stdout",
     "output_type": "stream",
     "text": [
      "  Class Cap Shape Cap Surface Cap Color Bruises Odor Gill Attachment  \\\n",
      "0     p         x           s         n       t    p               f   \n",
      "1     e         x           s         y       t    a               f   \n",
      "2     e         b           s         w       t    l               f   \n",
      "\n",
      "  Gill Spacing Gill Size Gill Color  ... Stalk Color Above Ring  \\\n",
      "0            c         n          k  ...                      w   \n",
      "1            c         b          k  ...                      w   \n",
      "2            c         b          n  ...                      w   \n",
      "\n",
      "  Stalk Color Below Ring Veil Type Veil Color Ring Number Ring Type  \\\n",
      "0                      w         p          w           o         p   \n",
      "1                      w         p          w           o         p   \n",
      "2                      w         p          w           o         p   \n",
      "\n",
      "  Spore Print Color Population Habitat Edible  \n",
      "0                 k          s       u  False  \n",
      "1                 n          n       g   True  \n",
      "2                 n          n       m   True  \n",
      "\n",
      "[3 rows x 24 columns]\n"
     ]
    }
   ],
   "source": [
    "import pandas as pd\n",
    "import re as regex\n",
    "df = pd.read_csv('../../data/raw/mushrooms.csv')\n",
    "\n",
    "\n",
    "df=(df\n",
    " .rename(columns=lambda x: regex.sub(r'-',r' ',x))\n",
    " .rename(columns=lambda x: regex.sub(r'([a-z])([a-z]*)',lambda match: '{}{}'.format(match.group(1).upper(),match.group(2)),x))\n",
    " .assign(Edible=df['class'])\n",
    " .replace({'Edible':{'e':True, 'p':False}})\n",
    ")\n",
    "\n",
    "\n",
    "print(df.head(3))"
   ]
  },
  {
   "cell_type": "code",
   "execution_count": null,
   "metadata": {},
   "outputs": [],
   "source": []
  }
 ],
 "metadata": {
  "kernelspec": {
   "display_name": "Python 3",
   "language": "python",
   "name": "python3"
  },
  "language_info": {
   "codemirror_mode": {
    "name": "ipython",
    "version": 3
   },
   "file_extension": ".py",
   "mimetype": "text/x-python",
   "name": "python",
   "nbconvert_exporter": "python",
   "pygments_lexer": "ipython3",
   "version": "3.8.5"
  }
 },
 "nbformat": 4,
 "nbformat_minor": 4
}
