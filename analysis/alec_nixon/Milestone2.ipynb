{
 "cells": [
  {
   "cell_type": "markdown",
   "metadata": {},
   "source": [
    "#### Import libraries"
   ]
  },
  {
   "cell_type": "code",
   "execution_count": 16,
   "metadata": {},
   "outputs": [],
   "source": [
    "import pandas as pd\n",
    "import matplotlib as plt\n",
    "import seaborn as sns\n",
    "from scripts import project_functions as pf"
   ]
  },
  {
   "cell_type": "markdown",
   "metadata": {},
   "source": [
    "#### Load data"
   ]
  },
  {
   "cell_type": "code",
   "execution_count": 15,
   "metadata": {},
   "outputs": [
    {
     "name": "stdout",
     "output_type": "stream",
     "text": [
      "  Class Cap Shape Cap Surface Cap Color Bruises Odor Gill Attachment  \\\n",
      "0     p         x           s         n       t    p               f   \n",
      "1     e         x           s         y       t    a               f   \n",
      "2     e         b           s         w       t    l               f   \n",
      "\n",
      "  Gill Spacing Gill Size Gill Color  ... Stalk Color Above Ring  \\\n",
      "0            c         n          k  ...                      w   \n",
      "1            c         b          k  ...                      w   \n",
      "2            c         b          n  ...                      w   \n",
      "\n",
      "  Stalk Color Below Ring Veil Type Veil Color Ring Number Ring Type  \\\n",
      "0                      w         p          w           o         p   \n",
      "1                      w         p          w           o         p   \n",
      "2                      w         p          w           o         p   \n",
      "\n",
      "  Spore Print Color Population Habitat Edible  \n",
      "0                 k          s       u  False  \n",
      "1                 n          n       g   True  \n",
      "2                 n          n       m   True  \n",
      "\n",
      "[3 rows x 24 columns]\n"
     ]
    }
   ],
   "source": [
    "\n",
    "df = pf.prep_data('../../data/raw/mushrooms.csv','../../data/processed/alec.csv')\n",
    "print(df.head(3))"
   ]
  },
  {
   "cell_type": "markdown",
   "metadata": {},
   "source": [
    "#### EDA"
   ]
  },
  {
   "cell_type": "code",
   "execution_count": 25,
   "metadata": {},
   "outputs": [
    {
     "name": "stdout",
     "output_type": "stream",
     "text": [
      "Shape:\n",
      "(8124, 24)\n",
      "\n",
      "Columns:\n",
      "Index(['Class', 'Cap Shape', 'Cap Surface', 'Cap Color', 'Bruises', 'Odor',\n",
      "       'Gill Attachment', 'Gill Spacing', 'Gill Size', 'Gill Color',\n",
      "       'Stalk Shape', 'Stalk Root', 'Stalk Surface Above Ring',\n",
      "       'Stalk Surface Below Ring', 'Stalk Color Above Ring',\n",
      "       'Stalk Color Below Ring', 'Veil Type', 'Veil Color', 'Ring Number',\n",
      "       'Ring Type', 'Spore Print Color', 'Population', 'Habitat', 'Edible'],\n",
      "      dtype='object')\n",
      "\n",
      "First 5 rows:\n",
      "  Class Cap Shape Cap Surface Cap Color Bruises Odor Gill Attachment  \\\n",
      "0     p         x           s         n       t    p               f   \n",
      "1     e         x           s         y       t    a               f   \n",
      "2     e         b           s         w       t    l               f   \n",
      "3     p         x           y         w       t    p               f   \n",
      "4     e         x           s         g       f    n               f   \n",
      "\n",
      "  Gill Spacing Gill Size Gill Color  ... Stalk Color Above Ring  \\\n",
      "0            c         n          k  ...                      w   \n",
      "1            c         b          k  ...                      w   \n",
      "2            c         b          n  ...                      w   \n",
      "3            c         n          n  ...                      w   \n",
      "4            w         b          k  ...                      w   \n",
      "\n",
      "  Stalk Color Below Ring Veil Type Veil Color Ring Number Ring Type  \\\n",
      "0                      w         p          w           o         p   \n",
      "1                      w         p          w           o         p   \n",
      "2                      w         p          w           o         p   \n",
      "3                      w         p          w           o         p   \n",
      "4                      w         p          w           o         e   \n",
      "\n",
      "  Spore Print Color Population Habitat Edible  \n",
      "0                 k          s       u  False  \n",
      "1                 n          n       g   True  \n",
      "2                 n          n       m   True  \n",
      "3                 k          s       u  False  \n",
      "4                 n          a       g   True  \n",
      "\n",
      "[5 rows x 24 columns]\n",
      "\n",
      "\n",
      "Unique values in columns:\n",
      "Class                        2\n",
      "Cap Shape                    6\n",
      "Cap Surface                  4\n",
      "Cap Color                   10\n",
      "Bruises                      2\n",
      "Odor                         9\n",
      "Gill Attachment              2\n",
      "Gill Spacing                 2\n",
      "Gill Size                    2\n",
      "Gill Color                  12\n",
      "Stalk Shape                  2\n",
      "Stalk Root                   5\n",
      "Stalk Surface Above Ring     4\n",
      "Stalk Surface Below Ring     4\n",
      "Stalk Color Above Ring       9\n",
      "Stalk Color Below Ring       9\n",
      "Veil Type                    1\n",
      "Veil Color                   4\n",
      "Ring Number                  3\n",
      "Ring Type                    5\n",
      "Spore Print Color            9\n",
      "Population                   6\n",
      "Habitat                      7\n",
      "Edible                       2\n",
      "dtype: int64\n",
      "\n"
     ]
    }
   ],
   "source": [
    "print(\"Shape:\\n{}\\n\".format(df.shape))\n",
    "print(\"Columns:\\n{}\\n\".format(df.columns))\n",
    "print(\"First 5 rows:\\n{}\\n\\n\".format(df.head(5)))\n",
    "\n",
    "print(\"Unique values in columns:\\n{}\\n\".format(df.nunique(axis=0)))"
   ]
  },
  {
   "cell_type": "code",
   "execution_count": 34,
   "metadata": {},
   "outputs": [
    {
     "name": "stdout",
     "output_type": "stream",
     "text": [
      "<pandas.core.groupby.generic.DataFrameGroupBy object at 0x0000022D39F14970>\n"
     ]
    }
   ],
   "source": [
    "aData1 = df.groupby('Cap Shape').\n",
    "print(aData1)"
   ]
  }
 ],
 "metadata": {
  "kernelspec": {
   "display_name": "Python 3",
   "language": "python",
   "name": "python3"
  },
  "language_info": {
   "codemirror_mode": {
    "name": "ipython",
    "version": 3
   },
   "file_extension": ".py",
   "mimetype": "text/x-python",
   "name": "python",
   "nbconvert_exporter": "python",
   "pygments_lexer": "ipython3",
   "version": "3.8.5"
  }
 },
 "nbformat": 4,
 "nbformat_minor": 4
}
