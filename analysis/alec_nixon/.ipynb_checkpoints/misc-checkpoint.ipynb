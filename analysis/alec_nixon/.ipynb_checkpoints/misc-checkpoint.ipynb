{
 "cells": [
  {
   "cell_type": "markdown",
   "metadata": {},
   "source": [
    "# Misc Analysis"
   ]
  },
  {
   "cell_type": "markdown",
   "metadata": {},
   "source": [
    "## Lib. Imports"
   ]
  },
  {
   "cell_type": "code",
   "execution_count": 1,
   "metadata": {},
   "outputs": [],
   "source": [
    "import pandas as pd\n",
    "import bisect"
   ]
  },
  {
   "cell_type": "markdown",
   "metadata": {},
   "source": [
    "## Load data as dataframe with pandas"
   ]
  },
  {
   "cell_type": "code",
   "execution_count": 2,
   "metadata": {},
   "outputs": [
    {
     "name": "stdout",
     "output_type": "stream",
     "text": [
      "There are 8124 rows and 23 columns.\n",
      "The columns are:\n",
      "\tclass\n",
      "\tcap-shape\n",
      "\tcap-surface\n",
      "\tcap-color\n",
      "\tbruises\n",
      "\todor\n",
      "\tgill-attachment\n",
      "\tgill-spacing\n",
      "\tgill-size\n",
      "\tgill-color\n",
      "\tstalk-shape\n",
      "\tstalk-root\n",
      "\tstalk-surface-above-ring\n",
      "\tstalk-surface-below-ring\n",
      "\tstalk-color-above-ring\n",
      "\tstalk-color-below-ring\n",
      "\tveil-type\n",
      "\tveil-color\n",
      "\tring-number\n",
      "\tring-type\n",
      "\tspore-print-color\n",
      "\tpopulation\n",
      "\thabitat\n"
     ]
    }
   ],
   "source": [
    "rawdata = pd.read_csv('../../data/raw/mushrooms.csv')\n",
    "n = len(rawdata)\n",
    "m = len(rawdata.columns)\n",
    "print(\"There are {} rows and {} columns.\".format(n,m))\n",
    "print(\"The columns are:\")\n",
    "for col in rawdata.columns:\n",
    "    print(\"\\t\"+col)"
   ]
  },
  {
   "cell_type": "markdown",
   "metadata": {},
   "source": [
    "## Determine Uniqueness"
   ]
  },
  {
   "cell_type": "code",
   "execution_count": 3,
   "metadata": {},
   "outputs": [],
   "source": [
    "#uniqueKeys = {}\n",
    "#for col in range(0,m):\n",
    "#    uniqueKeys[col] = []\n",
    "#    for row in range(0,n):\n",
    "#        if not (rawdata.iloc[row,col] in uniqueKeys[col]):\n",
    "#                uniqueKeys[col].append(rawdata.iloc[row,col])\n",
    "#    print(\"There are {} unique values in column {} \\\"{}\\\": {}\".format(len(uniqueKeys[col]), col,rawdata.columns[col],uniqueKeys[col]))"
   ]
  },
  {
   "cell_type": "code",
   "execution_count": 4,
   "metadata": {},
   "outputs": [],
   "source": [
    "uniqueRows = []\n",
    "index = 0\n",
    "id = \"\"\n",
    "for i in range(0,n):\n",
    "    id = \"\"\n",
    "    for j in range(0,m):\n",
    "        id = id+rawdata.iloc[i,j]\n",
    "    index = bisect.bisect(uniqueRows,id)\n",
    "    if index > 0 and uniqueRows[index-1] != id:\n",
    "        uniqueRows.insert(index,id)\n",
    "    elif index == 0:\n",
    "        uniqueRows.insert(index,id)"
   ]
  },
  {
   "cell_type": "code",
   "execution_count": 5,
   "metadata": {},
   "outputs": [
    {
     "name": "stdout",
     "output_type": "stream",
     "text": [
      "There are 8124 unique mushrooms recordings (rows).\n",
      "The first 5 samples are: ['ebfgfnfwbge?kkwwpwtpwng', 'ebfgfnfwbge?kkwwpwtpwsg', 'ebfgfnfwbge?kswwpwtpwng', 'ebfgfnfwbge?kswwpwtpwsg', 'ebfgfnfwbge?skwwpwtpwng'].\n"
     ]
    }
   ],
   "source": [
    "print(\"There are {} unique mushrooms recordings (rows).\".format(len(uniqueRows)))\n",
    "print(\"The first 5 samples are: {}.\".format(uniqueRows[0:5]))"
   ]
  },
  {
   "cell_type": "markdown",
   "metadata": {},
   "source": [
    "# Find Percent Edible\n",
    "We will find what percentage of these mushrooms are edible, and assuming this is a representative sampling, we may use this to estimate what percentage of mushrooms are edible in general (for our fictional population)\n",
    "We are of course using\n",
    "$\\frac{N_{edible}}{N_{total}}\\cdot100\\%$\n",
    "to determine percentages."
   ]
  },
  {
   "cell_type": "code",
   "execution_count": 6,
   "metadata": {},
   "outputs": [
    {
     "name": "stdout",
     "output_type": "stream",
     "text": [
      "51.8% of the mushrooms are edible.\n"
     ]
    }
   ],
   "source": [
    "n_edible = 0\n",
    "n_tot = len(uniqueRows)\n",
    "for i in range(0,n_tot):\n",
    "    if uniqueRows[i][0] == \"e\":\n",
    "        n_edible += 1\n",
    "percentEdible = (n_edible/n_tot*100)\n",
    "print(\"{:.3}% of the mushrooms are edible.\".format(percentEdible))"
   ]
  }
 ],
 "metadata": {
  "kernelspec": {
   "display_name": "Python 3",
   "language": "python",
   "name": "python3"
  },
  "language_info": {
   "codemirror_mode": {
    "name": "ipython",
    "version": 3
   },
   "file_extension": ".py",
   "mimetype": "text/x-python",
   "name": "python",
   "nbconvert_exporter": "python",
   "pygments_lexer": "ipython3",
   "version": "3.8.5"
  }
 },
 "nbformat": 4,
 "nbformat_minor": 4
}
