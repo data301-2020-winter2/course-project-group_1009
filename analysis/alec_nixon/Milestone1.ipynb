{
 "cells": [
  {
   "cell_type": "markdown",
   "metadata": {},
   "source": [
    "# Milestone 1\n",
    "## Load data as dataframe with pandas"
   ]
  },
  {
   "cell_type": "code",
   "execution_count": 1,
   "metadata": {},
   "outputs": [],
   "source": [
    "import pandas as pd"
   ]
  },
  {
   "cell_type": "code",
   "execution_count": 2,
   "metadata": {},
   "outputs": [
    {
     "name": "stdout",
     "output_type": "stream",
     "text": [
      "There are 8124 rows and 23 columns.\n",
      "The columns are:\n",
      "\tclass\n",
      "\tcap-shape\n",
      "\tcap-surface\n",
      "\tcap-color\n",
      "\tbruises\n",
      "\todor\n",
      "\tgill-attachment\n",
      "\tgill-spacing\n",
      "\tgill-size\n",
      "\tgill-color\n",
      "\tstalk-shape\n",
      "\tstalk-root\n",
      "\tstalk-surface-above-ring\n",
      "\tstalk-surface-below-ring\n",
      "\tstalk-color-above-ring\n",
      "\tstalk-color-below-ring\n",
      "\tveil-type\n",
      "\tveil-color\n",
      "\tring-number\n",
      "\tring-type\n",
      "\tspore-print-color\n",
      "\tpopulation\n",
      "\thabitat\n"
     ]
    }
   ],
   "source": [
    "rawdata = pd.read_csv('../../data/raw/mushrooms.csv')\n",
    "n = len(rawdata)\n",
    "m = len(rawdata.columns)\n",
    "print(\"There are {} rows and {} columns.\".format(n,m))\n",
    "print(\"The columns are:\")\n",
    "for col in rawdata.columns:\n",
    "    print(\"\\t\"+col)"
   ]
  }
 ],
 "metadata": {
  "kernelspec": {
   "display_name": "Python 3",
   "language": "python",
   "name": "python3"
  },
  "language_info": {
   "codemirror_mode": {
    "name": "ipython",
    "version": 3
   },
   "file_extension": ".py",
   "mimetype": "text/x-python",
   "name": "python",
   "nbconvert_exporter": "python",
   "pygments_lexer": "ipython3",
   "version": "3.8.5"
  }
 },
 "nbformat": 4,
 "nbformat_minor": 4
}
