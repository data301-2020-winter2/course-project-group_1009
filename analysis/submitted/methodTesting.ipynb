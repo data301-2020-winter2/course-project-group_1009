{
 "cells": [
  {
   "cell_type": "code",
   "execution_count": 9,
   "metadata": {},
   "outputs": [],
   "source": [
    "import pandas as pd\n",
    "import seaborn as sns\n",
    "import numpy as np\n",
    "import matplotlib.pyplot as plt\n",
    "import re as regex\n",
    "from scripts import project_functions"
   ]
  },
  {
   "cell_type": "code",
   "execution_count": 2,
   "metadata": {},
   "outputs": [],
   "source": [
    "df = project_functions.load_and_process_data(\"../../data/raw/mushrooms.csv\")\n",
    "ratioDict = project_functions.show_edibility_ratio(df)"
   ]
  },
  {
   "cell_type": "code",
   "execution_count": 24,
   "metadata": {},
   "outputs": [
    {
     "name": "stdout",
     "output_type": "stream",
     "text": [
      "     Feature  Edibility     coeff\n",
      "115    Waste   1.000000  1.000000\n",
      "69       Red   1.000000  1.000000\n",
      "102   Yellow   1.000000  1.000000\n",
      "91     Large   0.000000  1.000000\n",
      "47    Orange   1.000000  1.000000\n",
      "..       ...        ...       ...\n",
      "86       1.0   0.491453  0.508547\n",
      "51   Bulbous   0.508475  0.508475\n",
      "31      Free   0.507455  0.507455\n",
      "82     White   0.506815  0.506815\n",
      "1       Flat   0.506345  0.506345\n",
      "\n",
      "[116 rows x 3 columns]\n"
     ]
    }
   ],
   "source": [
    "ratios = pd.DataFrame(columns=['Feature','Edibility'])\n",
    "for ratio in ratioDict.values():\n",
    "    for index, row in ratio.iterrows():\n",
    "        #nr={'Feature':'{} {}'.format(row['index'],ratio.columns[1]),'Edibility':row['Edibility']}\n",
    "        nr={'Feature':regex.sub(r'([a-z])([a-z]*)',lambda match: '{}{}'.format(match.group(1).upper(),match.group(2)),str(row['index'])),'Edibility':row['Edibility']}\n",
    "        #print(nr)\n",
    "        ratios = ratios.append(nr, ignore_index=True)\n",
    "ratios['coeff'] = abs(ratios['Edibility']-0.5)+0.5\n",
    "ratios.sort_values(by=['coeff'],ascending=False,inplace=True)\n",
    "print(ratios)"
   ]
  },
  {
   "cell_type": "code",
   "execution_count": 29,
   "metadata": {},
   "outputs": [],
   "source": [
    "def sort_by_influence(ratioDict, keepCoeff=False):\n",
    "    ratios = pd.DataFrame(columns=['Feature','Edibility'])\n",
    "    for ratio in ratioDict.values():\n",
    "        for index, row in ratio.iterrows():\n",
    "            #nr={'Feature':'{} {}'.format(row['index'],ratio.columns[1]),'Edibility':row['Edibility']}\n",
    "            nr={'Feature':regex.sub(r'([a-z])([a-z]*)',lambda match: '{}{}'.format(match.group(1).upper(),match.group(2)),str(row['index'])),'Edibility':row['Edibility']}\n",
    "            #print(nr)\n",
    "            ratios = ratios.append(nr, ignore_index=True)\n",
    "    ratios['coeff'] = abs(ratios['Edibility']-0.5)+0.5\n",
    "    ratios.sort_values(by=['coeff'],ascending=False,inplace=True)\n",
    "    if not keepCoeff:\n",
    "        ratios.drop(['coeff'],axis=1,inplace=True)\n",
    "    return ratios"
   ]
  },
  {
   "cell_type": "code",
   "execution_count": 30,
   "metadata": {},
   "outputs": [
    {
     "name": "stdout",
     "output_type": "stream",
     "text": [
      "     Feature  Edibility\n",
      "115    Waste   1.000000\n",
      "69       Red   1.000000\n",
      "102   Yellow   1.000000\n",
      "91     Large   0.000000\n",
      "47    Orange   1.000000\n",
      "..       ...        ...\n",
      "86       1.0   0.491453\n",
      "51   Bulbous   0.508475\n",
      "31      Free   0.507455\n",
      "82     White   0.506815\n",
      "1       Flat   0.506345\n",
      "\n",
      "[116 rows x 2 columns]\n"
     ]
    }
   ],
   "source": [
    "print(sort_by_influence(ratioDict, ))"
   ]
  }
 ],
 "metadata": {
  "kernelspec": {
   "display_name": "Python 3",
   "language": "python",
   "name": "python3"
  },
  "language_info": {
   "codemirror_mode": {
    "name": "ipython",
    "version": 3
   },
   "file_extension": ".py",
   "mimetype": "text/x-python",
   "name": "python",
   "nbconvert_exporter": "python",
   "pygments_lexer": "ipython3",
   "version": "3.8.5"
  }
 },
 "nbformat": 4,
 "nbformat_minor": 4
}
