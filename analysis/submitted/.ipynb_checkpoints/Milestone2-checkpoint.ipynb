{
 "cells": [
  {
   "cell_type": "markdown",
   "metadata": {
    "id": "zQOODXPChWT0"
   },
   "source": [
    "# Edibility of Mushrooms #\n",
    "---\n",
    "**Research Question:** What physical characteristics found in mushrooms can help us diffirientiate if it is edible or not?\n",
    "\n",
    "The original data set can be found [here](https://www.kaggle.com/uciml/mushroom-classification)"
   ]
  },
  {
   "cell_type": "markdown",
   "metadata": {
    "id": "nkxGP_I9rMl9"
   },
   "source": [
    "# Introduction #\n",
    "---\n",
    "After conducting our own individual Exploratory Data Analysis (EDA) on the data, we found several characteristics that can help us identify the edibility of said mushroom. Most of our data analysis was achieved by plotting the count of specific features, while differentiating the class of mushroom (edible or poisonous). From here we were able to find specific ratios for each characteristic, and this in term helped us to tell which traits belonged mostly to edible mushrooms, which ones belonged to poisonous, and which ones were common between both classes. With this technique we have managed to identify what we believe are some of the most important factors that can help us distinguish between possible death, and a delicious dinner. "
   ]
  },
  {
   "cell_type": "markdown",
   "metadata": {
    "id": "v7doKJhyhejd"
   },
   "source": [
    "### Importing Modules ###"
   ]
  },
  {
   "cell_type": "code",
   "execution_count": 1,
   "metadata": {
    "id": "E2KKIUeChhS9"
   },
   "outputs": [],
   "source": [
    "# !pip install pandas seaborn numpy matplotlib # Uncomment if modules are not found\n",
    "import pandas as pd\n",
    "import seaborn as sns\n",
    "import numpy as np\n",
    "import matplotlib.pyplot as plt\n",
    "from scripts import project_functions"
   ]
  },
  {
   "cell_type": "markdown",
   "metadata": {
    "id": "73O7CFubsxQ4"
   },
   "source": [
    "### Load and Preprocess Data ###"
   ]
  },
  {
   "cell_type": "code",
   "execution_count": 2,
   "metadata": {
    "colab": {
     "base_uri": "https://localhost:8080/",
     "height": 392
    },
    "id": "v1sfr-b1s0cR",
    "outputId": "c03ea35e-db3b-4caf-ead0-5416b4b7c090"
   },
   "outputs": [
    {
     "data": {
      "text/html": [
       "<div>\n",
       "<style scoped>\n",
       "    .dataframe tbody tr th:only-of-type {\n",
       "        vertical-align: middle;\n",
       "    }\n",
       "\n",
       "    .dataframe tbody tr th {\n",
       "        vertical-align: top;\n",
       "    }\n",
       "\n",
       "    .dataframe thead th {\n",
       "        text-align: right;\n",
       "    }\n",
       "</style>\n",
       "<table border=\"1\" class=\"dataframe\">\n",
       "  <thead>\n",
       "    <tr style=\"text-align: right;\">\n",
       "      <th></th>\n",
       "      <th>Class</th>\n",
       "      <th>Cap Shape</th>\n",
       "      <th>Cap Surface</th>\n",
       "      <th>Cap Color</th>\n",
       "      <th>Bruises</th>\n",
       "      <th>Odor</th>\n",
       "      <th>Gill Attachment</th>\n",
       "      <th>Gill Spacing</th>\n",
       "      <th>Gill Size</th>\n",
       "      <th>Gill Color</th>\n",
       "      <th>...</th>\n",
       "      <th>Stalk Color Above Ring</th>\n",
       "      <th>Stalk Color Below Ring</th>\n",
       "      <th>Veil Type</th>\n",
       "      <th>Veil Color</th>\n",
       "      <th>Ring Number</th>\n",
       "      <th>Ring Type</th>\n",
       "      <th>Spore Print Color</th>\n",
       "      <th>Population</th>\n",
       "      <th>Habitat</th>\n",
       "      <th>Edible</th>\n",
       "    </tr>\n",
       "  </thead>\n",
       "  <tbody>\n",
       "    <tr>\n",
       "      <th>0</th>\n",
       "      <td>edible</td>\n",
       "      <td>flat</td>\n",
       "      <td>fibrous</td>\n",
       "      <td>brown</td>\n",
       "      <td>True</td>\n",
       "      <td>none</td>\n",
       "      <td>free</td>\n",
       "      <td>close</td>\n",
       "      <td>broad</td>\n",
       "      <td>brown</td>\n",
       "      <td>...</td>\n",
       "      <td>white</td>\n",
       "      <td>white</td>\n",
       "      <td>partial</td>\n",
       "      <td>white</td>\n",
       "      <td>1</td>\n",
       "      <td>pendant</td>\n",
       "      <td>brown</td>\n",
       "      <td>solitary</td>\n",
       "      <td>woods</td>\n",
       "      <td>True</td>\n",
       "    </tr>\n",
       "    <tr>\n",
       "      <th>1</th>\n",
       "      <td>edible</td>\n",
       "      <td>flat</td>\n",
       "      <td>fibrous</td>\n",
       "      <td>red</td>\n",
       "      <td>True</td>\n",
       "      <td>none</td>\n",
       "      <td>free</td>\n",
       "      <td>close</td>\n",
       "      <td>broad</td>\n",
       "      <td>purple</td>\n",
       "      <td>...</td>\n",
       "      <td>gray</td>\n",
       "      <td>pink</td>\n",
       "      <td>partial</td>\n",
       "      <td>white</td>\n",
       "      <td>1</td>\n",
       "      <td>pendant</td>\n",
       "      <td>brown</td>\n",
       "      <td>several</td>\n",
       "      <td>woods</td>\n",
       "      <td>True</td>\n",
       "    </tr>\n",
       "    <tr>\n",
       "      <th>2</th>\n",
       "      <td>edible</td>\n",
       "      <td>flat</td>\n",
       "      <td>scaly</td>\n",
       "      <td>brown</td>\n",
       "      <td>True</td>\n",
       "      <td>none</td>\n",
       "      <td>free</td>\n",
       "      <td>close</td>\n",
       "      <td>broad</td>\n",
       "      <td>pink</td>\n",
       "      <td>...</td>\n",
       "      <td>white</td>\n",
       "      <td>white</td>\n",
       "      <td>partial</td>\n",
       "      <td>white</td>\n",
       "      <td>1</td>\n",
       "      <td>pendant</td>\n",
       "      <td>black</td>\n",
       "      <td>solitary</td>\n",
       "      <td>woods</td>\n",
       "      <td>True</td>\n",
       "    </tr>\n",
       "    <tr>\n",
       "      <th>3</th>\n",
       "      <td>edible</td>\n",
       "      <td>flat</td>\n",
       "      <td>fibrous</td>\n",
       "      <td>red</td>\n",
       "      <td>True</td>\n",
       "      <td>none</td>\n",
       "      <td>free</td>\n",
       "      <td>close</td>\n",
       "      <td>broad</td>\n",
       "      <td>pink</td>\n",
       "      <td>...</td>\n",
       "      <td>gray</td>\n",
       "      <td>white</td>\n",
       "      <td>partial</td>\n",
       "      <td>white</td>\n",
       "      <td>1</td>\n",
       "      <td>pendant</td>\n",
       "      <td>black</td>\n",
       "      <td>solitary</td>\n",
       "      <td>woods</td>\n",
       "      <td>True</td>\n",
       "    </tr>\n",
       "    <tr>\n",
       "      <th>4</th>\n",
       "      <td>edible</td>\n",
       "      <td>flat</td>\n",
       "      <td>fibrous</td>\n",
       "      <td>gray</td>\n",
       "      <td>True</td>\n",
       "      <td>none</td>\n",
       "      <td>free</td>\n",
       "      <td>close</td>\n",
       "      <td>broad</td>\n",
       "      <td>white</td>\n",
       "      <td>...</td>\n",
       "      <td>white</td>\n",
       "      <td>white</td>\n",
       "      <td>partial</td>\n",
       "      <td>white</td>\n",
       "      <td>1</td>\n",
       "      <td>pendant</td>\n",
       "      <td>brown</td>\n",
       "      <td>several</td>\n",
       "      <td>woods</td>\n",
       "      <td>True</td>\n",
       "    </tr>\n",
       "    <tr>\n",
       "      <th>...</th>\n",
       "      <td>...</td>\n",
       "      <td>...</td>\n",
       "      <td>...</td>\n",
       "      <td>...</td>\n",
       "      <td>...</td>\n",
       "      <td>...</td>\n",
       "      <td>...</td>\n",
       "      <td>...</td>\n",
       "      <td>...</td>\n",
       "      <td>...</td>\n",
       "      <td>...</td>\n",
       "      <td>...</td>\n",
       "      <td>...</td>\n",
       "      <td>...</td>\n",
       "      <td>...</td>\n",
       "      <td>...</td>\n",
       "      <td>...</td>\n",
       "      <td>...</td>\n",
       "      <td>...</td>\n",
       "      <td>...</td>\n",
       "      <td>...</td>\n",
       "    </tr>\n",
       "    <tr>\n",
       "      <th>8119</th>\n",
       "      <td>poisonous</td>\n",
       "      <td>flat</td>\n",
       "      <td>fibrous</td>\n",
       "      <td>gray</td>\n",
       "      <td>False</td>\n",
       "      <td>foul</td>\n",
       "      <td>free</td>\n",
       "      <td>close</td>\n",
       "      <td>broad</td>\n",
       "      <td>chocolate</td>\n",
       "      <td>...</td>\n",
       "      <td>brown</td>\n",
       "      <td>pink</td>\n",
       "      <td>partial</td>\n",
       "      <td>white</td>\n",
       "      <td>1</td>\n",
       "      <td>large</td>\n",
       "      <td>chocolate</td>\n",
       "      <td>solitary</td>\n",
       "      <td>paths</td>\n",
       "      <td>False</td>\n",
       "    </tr>\n",
       "    <tr>\n",
       "      <th>8120</th>\n",
       "      <td>poisonous</td>\n",
       "      <td>flat</td>\n",
       "      <td>fibrous</td>\n",
       "      <td>yellow</td>\n",
       "      <td>False</td>\n",
       "      <td>foul</td>\n",
       "      <td>free</td>\n",
       "      <td>close</td>\n",
       "      <td>broad</td>\n",
       "      <td>chocolate</td>\n",
       "      <td>...</td>\n",
       "      <td>buff</td>\n",
       "      <td>brown</td>\n",
       "      <td>partial</td>\n",
       "      <td>white</td>\n",
       "      <td>1</td>\n",
       "      <td>large</td>\n",
       "      <td>chocolate</td>\n",
       "      <td>several</td>\n",
       "      <td>paths</td>\n",
       "      <td>False</td>\n",
       "    </tr>\n",
       "    <tr>\n",
       "      <th>8121</th>\n",
       "      <td>poisonous</td>\n",
       "      <td>flat</td>\n",
       "      <td>fibrous</td>\n",
       "      <td>yellow</td>\n",
       "      <td>False</td>\n",
       "      <td>foul</td>\n",
       "      <td>free</td>\n",
       "      <td>close</td>\n",
       "      <td>broad</td>\n",
       "      <td>chocolate</td>\n",
       "      <td>...</td>\n",
       "      <td>buff</td>\n",
       "      <td>pink</td>\n",
       "      <td>partial</td>\n",
       "      <td>white</td>\n",
       "      <td>1</td>\n",
       "      <td>large</td>\n",
       "      <td>chocolate</td>\n",
       "      <td>solitary</td>\n",
       "      <td>woods</td>\n",
       "      <td>False</td>\n",
       "    </tr>\n",
       "    <tr>\n",
       "      <th>8122</th>\n",
       "      <td>poisonous</td>\n",
       "      <td>convex</td>\n",
       "      <td>scaly</td>\n",
       "      <td>gray</td>\n",
       "      <td>False</td>\n",
       "      <td>foul</td>\n",
       "      <td>free</td>\n",
       "      <td>close</td>\n",
       "      <td>broad</td>\n",
       "      <td>pink</td>\n",
       "      <td>...</td>\n",
       "      <td>buff</td>\n",
       "      <td>pink</td>\n",
       "      <td>partial</td>\n",
       "      <td>white</td>\n",
       "      <td>1</td>\n",
       "      <td>large</td>\n",
       "      <td>chocolate</td>\n",
       "      <td>solitary</td>\n",
       "      <td>paths</td>\n",
       "      <td>False</td>\n",
       "    </tr>\n",
       "    <tr>\n",
       "      <th>8123</th>\n",
       "      <td>poisonous</td>\n",
       "      <td>convex</td>\n",
       "      <td>smooth</td>\n",
       "      <td>brown</td>\n",
       "      <td>True</td>\n",
       "      <td>pungent</td>\n",
       "      <td>free</td>\n",
       "      <td>close</td>\n",
       "      <td>narrow</td>\n",
       "      <td>black</td>\n",
       "      <td>...</td>\n",
       "      <td>white</td>\n",
       "      <td>white</td>\n",
       "      <td>partial</td>\n",
       "      <td>white</td>\n",
       "      <td>1</td>\n",
       "      <td>pendant</td>\n",
       "      <td>black</td>\n",
       "      <td>scattered</td>\n",
       "      <td>urban</td>\n",
       "      <td>False</td>\n",
       "    </tr>\n",
       "  </tbody>\n",
       "</table>\n",
       "<p>8124 rows × 24 columns</p>\n",
       "</div>"
      ],
      "text/plain": [
       "          Class Cap Shape Cap Surface Cap Color  Bruises     Odor  \\\n",
       "0        edible      flat     fibrous     brown     True     none   \n",
       "1        edible      flat     fibrous       red     True     none   \n",
       "2        edible      flat       scaly     brown     True     none   \n",
       "3        edible      flat     fibrous       red     True     none   \n",
       "4        edible      flat     fibrous      gray     True     none   \n",
       "...         ...       ...         ...       ...      ...      ...   \n",
       "8119  poisonous      flat     fibrous      gray    False     foul   \n",
       "8120  poisonous      flat     fibrous    yellow    False     foul   \n",
       "8121  poisonous      flat     fibrous    yellow    False     foul   \n",
       "8122  poisonous    convex       scaly      gray    False     foul   \n",
       "8123  poisonous    convex      smooth     brown     True  pungent   \n",
       "\n",
       "     Gill Attachment Gill Spacing Gill Size Gill Color  ...  \\\n",
       "0               free        close     broad      brown  ...   \n",
       "1               free        close     broad     purple  ...   \n",
       "2               free        close     broad       pink  ...   \n",
       "3               free        close     broad       pink  ...   \n",
       "4               free        close     broad      white  ...   \n",
       "...              ...          ...       ...        ...  ...   \n",
       "8119            free        close     broad  chocolate  ...   \n",
       "8120            free        close     broad  chocolate  ...   \n",
       "8121            free        close     broad  chocolate  ...   \n",
       "8122            free        close     broad       pink  ...   \n",
       "8123            free        close    narrow      black  ...   \n",
       "\n",
       "     Stalk Color Above Ring Stalk Color Below Ring Veil Type Veil Color  \\\n",
       "0                     white                  white   partial      white   \n",
       "1                      gray                   pink   partial      white   \n",
       "2                     white                  white   partial      white   \n",
       "3                      gray                  white   partial      white   \n",
       "4                     white                  white   partial      white   \n",
       "...                     ...                    ...       ...        ...   \n",
       "8119                  brown                   pink   partial      white   \n",
       "8120                   buff                  brown   partial      white   \n",
       "8121                   buff                   pink   partial      white   \n",
       "8122                   buff                   pink   partial      white   \n",
       "8123                  white                  white   partial      white   \n",
       "\n",
       "     Ring Number Ring Type Spore Print Color Population  Habitat Edible  \n",
       "0              1   pendant             brown   solitary    woods   True  \n",
       "1              1   pendant             brown    several    woods   True  \n",
       "2              1   pendant             black   solitary    woods   True  \n",
       "3              1   pendant             black   solitary    woods   True  \n",
       "4              1   pendant             brown    several    woods   True  \n",
       "...          ...       ...               ...        ...      ...    ...  \n",
       "8119           1     large         chocolate   solitary    paths  False  \n",
       "8120           1     large         chocolate    several    paths  False  \n",
       "8121           1     large         chocolate   solitary    woods  False  \n",
       "8122           1     large         chocolate   solitary    paths  False  \n",
       "8123           1   pendant             black  scattered    urban  False  \n",
       "\n",
       "[8124 rows x 24 columns]"
      ]
     },
     "execution_count": 2,
     "metadata": {},
     "output_type": "execute_result"
    }
   ],
   "source": [
    "df = project_functions.load_and_process_data(\"../../data/raw/mushrooms.csv\")\n",
    "ratioDict = project_functions.show_edibility_ratio(df)\n",
    "df"
   ]
  },
  {
   "cell_type": "markdown",
   "metadata": {
    "id": "OQ-ynU4ctP59"
   },
   "source": [
    "# Segmenting the Data #\n",
    "---\n",
    "Since there are so many distinct characteristics to a mushroom we have opted to separate these into different categories for an easier analysis."
   ]
  },
  {
   "cell_type": "markdown",
   "metadata": {
    "id": "gUubF0UzuBub"
   },
   "source": [
    "### Cap Related Traits ###\n",
    "---"
   ]
  },
  {
   "cell_type": "code",
   "execution_count": 3,
   "metadata": {
    "id": "3NAostGsuEq0"
   },
   "outputs": [
    {
     "data": {
      "image/png": "[encoded data removed]",
      "text/plain": [
       "<Figure size 1440x864 with 6 Axes>"
      ]
     },
     "metadata": {
      "needs_background": "light"
     },
     "output_type": "display_data"
    }
   ],
   "source": [
    "project_functions.show_cap_related_features(df, ratioDict)"
   ]
  },
  {
   "cell_type": "markdown",
   "metadata": {
    "id": "cXmoeMpJuF7F"
   },
   "source": [
    "### Gill Related Traits ###\n",
    "---"
   ]
  },
  {
   "cell_type": "code",
   "execution_count": null,
   "metadata": {
    "id": "H19cZ-WZuJ4I"
   },
   "outputs": [],
   "source": []
  },
  {
   "cell_type": "markdown",
   "metadata": {
    "id": "_5CtgaQDuKYX"
   },
   "source": [
    "### Stalk Related Traits ###\n",
    "---"
   ]
  },
  {
   "cell_type": "code",
   "execution_count": null,
   "metadata": {
    "id": "ztNAsDbFuNq-"
   },
   "outputs": [],
   "source": []
  },
  {
   "cell_type": "markdown",
   "metadata": {
    "id": "3TEhLK1nuOFW"
   },
   "source": [
    "### Veil Related Traits ###\n",
    "---"
   ]
  },
  {
   "cell_type": "code",
   "execution_count": 5,
   "metadata": {
    "id": "I7o2q54-uPSO"
   },
   "outputs": [],
   "source": []
  },
  {
   "cell_type": "markdown",
   "metadata": {
    "id": "eOftLliSuQ-i"
   },
   "source": [
    "### Ring Related Traits ###\n",
    "---"
   ]
  },
  {
   "cell_type": "code",
   "execution_count": null,
   "metadata": {
    "id": "mjd5nQf_uStu"
   },
   "outputs": [],
   "source": []
  },
  {
   "cell_type": "markdown",
   "metadata": {
    "id": "vjz5vBz3uTJ6"
   },
   "source": [
    "### Life Related Traits ###\n",
    "---"
   ]
  },
  {
   "cell_type": "code",
   "execution_count": null,
   "metadata": {
    "id": "A-DuiimDuVG3"
   },
   "outputs": [],
   "source": []
  },
  {
   "cell_type": "markdown",
   "metadata": {
    "id": "2S5x31HbuVk5"
   },
   "source": [
    "### Miscellaneous Traits ###\n",
    "---"
   ]
  },
  {
   "cell_type": "code",
   "execution_count": null,
   "metadata": {
    "id": "l_8p0qZQuXqn"
   },
   "outputs": [],
   "source": []
  },
  {
   "cell_type": "markdown",
   "metadata": {
    "id": "4Db8x9PovCdp"
   },
   "source": [
    "# Conclusion #\n",
    "---\n"
   ]
  },
  {
   "cell_type": "code",
   "execution_count": null,
   "metadata": {
    "id": "BMoMRNl2vFg0"
   },
   "outputs": [],
   "source": []
  }
 ],
 "metadata": {
  "colab": {
   "collapsed_sections": [
    "v7doKJhyhejd",
    "73O7CFubsxQ4"
   ],
   "name": "Milestone2.ipynb",
   "provenance": []
  },
  "kernelspec": {
   "display_name": "Python 3",
   "language": "python",
   "name": "python3"
  },
  "language_info": {
   "codemirror_mode": {
    "name": "ipython",
    "version": 3
   },
   "file_extension": ".py",
   "mimetype": "text/x-python",
   "name": "python",
   "nbconvert_exporter": "python",
   "pygments_lexer": "ipython3",
   "version": "3.8.2"
  }
 },
 "nbformat": 4,
 "nbformat_minor": 1
}
